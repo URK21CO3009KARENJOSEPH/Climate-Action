{
  "nbformat": 4,
  "nbformat_minor": 0,
  "metadata": {
    "colab": {
      "provenance": []
    },
    "kernelspec": {
      "name": "python3",
      "display_name": "Python 3"
    },
    "language_info": {
      "name": "python"
    }
  },
  "cells": [
    {
      "cell_type": "markdown",
      "source": [
        "Mount the file"
      ],
      "metadata": {
        "id": "8_ENUYCgfYoI"
      }
    },
    {
      "cell_type": "code",
      "execution_count": null,
      "metadata": {
        "colab": {
          "base_uri": "https://localhost:8080/"
        },
        "id": "DLAbqGyQdQQ7",
        "outputId": "d5be7cba-18f4-4054-982a-c9502d8db8b5"
      },
      "outputs": [
        {
          "output_type": "stream",
          "name": "stdout",
          "text": [
            "Drive already mounted at /content/drive/; to attempt to forcibly remount, call drive.mount(\"/content/drive/\", force_remount=True).\n"
          ]
        }
      ],
      "source": [
        "import pandas as pd\n",
        "from google.colab import drive\n",
        "drive.mount('/content/drive/')\n",
        "path = \"drive/My Drive/Colab Notebooks/Titanic_visu.xlsx\"\n",
        "df = pd.read_excel(path)\n",
        "import matplotlib.pyplot as plt\n",
        "import numpy as np"
      ]
    },
    {
      "cell_type": "code",
      "source": [
        "df['Embarked'].value_counts()"
      ],
      "metadata": {
        "colab": {
          "base_uri": "https://localhost:8080/"
        },
        "id": "vLS3b22es1Mb",
        "outputId": "920eace6-3cfd-43b5-f5df-87a0e4e11040"
      },
      "execution_count": null,
      "outputs": [
        {
          "output_type": "execute_result",
          "data": {
            "text/plain": [
              "S    17\n",
              "Q     5\n",
              "C     3\n",
              "Name: Embarked, dtype: int64"
            ]
          },
          "metadata": {},
          "execution_count": 3
        }
      ]
    },
    {
      "cell_type": "markdown",
      "source": [
        "Draw a bar chart with Embarked and its count (use different colors for each team)"
      ],
      "metadata": {
        "id": "nbhnu7w0sMZj"
      }
    },
    {
      "cell_type": "code",
      "source": [
        "data = df['Embarked'].value_counts()\n",
        "data\n",
        "plt.bar(data.index, data.values, color=['green','yellow','red'])"
      ],
      "metadata": {
        "colab": {
          "base_uri": "https://localhost:8080/",
          "height": 282
        },
        "id": "qvl2W4F0gSbd",
        "outputId": "1a9dc2a1-3f85-47af-c6f3-985c2b318341"
      },
      "execution_count": null,
      "outputs": [
        {
          "output_type": "execute_result",
          "data": {
            "text/plain": [
              "<BarContainer object of 3 artists>"
            ]
          },
          "metadata": {},
          "execution_count": 4
        },
        {
          "output_type": "display_data",
          "data": {
            "text/plain": [
              "<Figure size 432x288 with 1 Axes>"
            ],
            "image/png": "[encoded data removed]"
          },
          "metadata": {
            "needs_background": "light"
          }
        }
      ]
    },
    {
      "cell_type": "markdown",
      "source": [
        "Draw a comparative bar chart for Fare and New_Fare against each person (first 15\n",
        "persons)"
      ],
      "metadata": {
        "id": "2fE33mgm7EfI"
      }
    },
    {
      "cell_type": "code",
      "source": [
        "N = 15\n",
        "ind = np.arange(N)\n",
        "width = 0.25\n",
        "xval = df['Fare'].head(15)\n",
        "bar1 = plt.bar(ind, xval, width, color='violet')\n",
        "\n",
        "yval = df['New_Fare'].head(15)\n",
        "bar2 = plt.bar(ind+width, yval, width, color='orange')\n",
        "\n",
        "plt.xlabel('Name')\n",
        "plt.ylabel('Price')\n",
        "plt.xticks(ind+width, df['Name'].head(15))\n",
        "plt.legend((bar1, bar2), ('Fare', 'New_Fare'))"
      ],
      "metadata": {
        "id": "qR-jPmFyhxGq",
        "colab": {
          "base_uri": "https://localhost:8080/",
          "height": 296
        },
        "outputId": "24720da3-e7fc-4042-a778-062ac2ada544"
      },
      "execution_count": null,
      "outputs": [
        {
          "output_type": "execute_result",
          "data": {
            "text/plain": [
              "<matplotlib.legend.Legend at 0x7f0096afa9a0>"
            ]
          },
          "metadata": {},
          "execution_count": 5
        },
        {
          "output_type": "display_data",
          "data": {
            "text/plain": [
              "<Figure size 432x288 with 1 Axes>"
            ],
            "image/png": "[encoded data removed]"
          },
          "metadata": {
            "needs_background": "light"
          }
        }
      ]
    },
    {
      "cell_type": "markdown",
      "source": [
        "Draw a horizontal bar chart for Embarked and Fare"
      ],
      "metadata": {
        "id": "eOeKKH9l7U3D"
      }
    },
    {
      "cell_type": "code",
      "source": [
        "plt.barh(df['Embarked'], df['Fare'])"
      ],
      "metadata": {
        "colab": {
          "base_uri": "https://localhost:8080/",
          "height": 282
        },
        "id": "5izuLGMqhNbo",
        "outputId": "1ff90df0-9121-453a-e42a-9b7c3b9f9f3d"
      },
      "execution_count": null,
      "outputs": [
        {
          "output_type": "execute_result",
          "data": {
            "text/plain": [
              "<BarContainer object of 25 artists>"
            ]
          },
          "metadata": {},
          "execution_count": 6
        },
        {
          "output_type": "display_data",
          "data": {
            "text/plain": [
              "<Figure size 432x288 with 1 Axes>"
            ],
            "image/png": "[encoded data removed]"
          },
          "metadata": {
            "needs_background": "light"
          }
        }
      ]
    },
    {
      "cell_type": "code",
      "source": [
        "data= df.sort_values(by='Age', ascending=True)\n",
        "plt.hist(data['Age'], edgecolor='white')"
      ],
      "metadata": {
        "id": "Ojmke3ATtS1J",
        "colab": {
          "base_uri": "https://localhost:8080/",
          "height": 317
        },
        "outputId": "c2fa4258-3d3f-48e2-bedb-f649b06ac981"
      },
      "execution_count": null,
      "outputs": [
        {
          "output_type": "execute_result",
          "data": {
            "text/plain": [
              "(array([3., 5., 2., 4., 1., 3., 2., 1., 2., 2.]),\n",
              " array([20. , 23.8, 27.6, 31.4, 35.2, 39. , 42.8, 46.6, 50.4, 54.2, 58. ]),\n",
              " <BarContainer object of 10 artists>)"
            ]
          },
          "metadata": {},
          "execution_count": 7
        },
        {
          "output_type": "display_data",
          "data": {
            "text/plain": [
              "<Figure size 432x288 with 1 Axes>"
            ],
            "image/png": "[encoded data removed]"
          },
          "metadata": {
            "needs_background": "light"
          }
        }
      ]
    },
    {
      "cell_type": "code",
      "source": [
        "plt.hist(df['Age'],edgecolor='white')"
      ],
      "metadata": {
        "id": "1LsMEQeFucWP",
        "colab": {
          "base_uri": "https://localhost:8080/",
          "height": 317
        },
        "outputId": "740682cf-a788-4ac7-bb05-6ba118d66421"
      },
      "execution_count": null,
      "outputs": [
        {
          "output_type": "execute_result",
          "data": {
            "text/plain": [
              "(array([3., 5., 2., 4., 1., 3., 2., 1., 2., 2.]),\n",
              " array([20. , 23.8, 27.6, 31.4, 35.2, 39. , 42.8, 46.6, 50.4, 54.2, 58. ]),\n",
              " <BarContainer object of 10 artists>)"
            ]
          },
          "metadata": {},
          "execution_count": 8
        },
        {
          "output_type": "display_data",
          "data": {
            "text/plain": [
              "<Figure size 432x288 with 1 Axes>"
            ],
            "image/png": "[encoded data removed]"
          },
          "metadata": {
            "needs_background": "light"
          }
        }
      ]
    },
    {
      "cell_type": "markdown",
      "source": [
        "Draw a stacked bar chart for Fare and New_Fare against the person (first 10 persons)"
      ],
      "metadata": {
        "id": "DVvlf5ME7b1p"
      }
    },
    {
      "cell_type": "code",
      "source": [
        "plt.bar(df['Name'].head(10), df['Fare'].head(10))\n",
        "plt.bar(df['Name'].head(10), df['New_Fare'].head(10), bottom = df['Fare'].head(10))"
      ],
      "metadata": {
        "id": "CT01eMrPkCaq",
        "colab": {
          "base_uri": "https://localhost:8080/",
          "height": 285
        },
        "outputId": "6897fa25-7c5f-4643-8a4d-20755601072b"
      },
      "execution_count": null,
      "outputs": [
        {
          "output_type": "execute_result",
          "data": {
            "text/plain": [
              "<BarContainer object of 10 artists>"
            ]
          },
          "metadata": {},
          "execution_count": 9
        },
        {
          "output_type": "display_data",
          "data": {
            "text/plain": [
              "<Figure size 432x288 with 1 Axes>"
            ],
            "image/png": "[encoded data removed]"
          },
          "metadata": {
            "needs_background": "light"
          }
        }
      ]
    },
    {
      "cell_type": "markdown",
      "source": [
        "Draw a pie chart with Passenger class and its count"
      ],
      "metadata": {
        "id": "Opr57kzT7jX5"
      }
    },
    {
      "cell_type": "code",
      "source": [
        "data = df['Pclass'].value_counts()\n",
        "plt.pie(data.values, labels = data.index, autopct = '%1.1f%%');"
      ],
      "metadata": {
        "id": "qTNDnsQAk3A-",
        "colab": {
          "base_uri": "https://localhost:8080/",
          "height": 248
        },
        "outputId": "757e1a9b-b7f7-4b29-cdfd-1f898bea67fb"
      },
      "execution_count": null,
      "outputs": [
        {
          "output_type": "display_data",
          "data": {
            "text/plain": [
              "<Figure size 432x288 with 1 Axes>"
            ],
            "image/png": "[encoded data removed]"
          },
          "metadata": {}
        }
      ]
    },
    {
      "cell_type": "markdown",
      "source": [
        "Draw the dot plot between person and age (first 15 persons)"
      ],
      "metadata": {
        "id": "NRKBdJ3M7ovv"
      }
    },
    {
      "cell_type": "code",
      "source": [
        "plt.plot(df['Name'].head(15), df['Age'].head(15), linewidth =0, marker='o', color = 'purple')\n",
        "plt.title('Persons Age')\n",
        "plt.xlabel(\"Person name\")\n",
        "plt.ylabel('Person age')"
      ],
      "metadata": {
        "id": "iYkr7Ro_lZ2I",
        "colab": {
          "base_uri": "https://localhost:8080/",
          "height": 312
        },
        "outputId": "038d1681-f326-4156-eff3-19df263aa809"
      },
      "execution_count": null,
      "outputs": [
        {
          "output_type": "execute_result",
          "data": {
            "text/plain": [
              "Text(0, 0.5, 'Person age')"
            ]
          },
          "metadata": {},
          "execution_count": 11
        },
        {
          "output_type": "display_data",
          "data": {
            "text/plain": [
              "<Figure size 432x288 with 1 Axes>"
            ],
            "image/png": "[encoded data removed]"
          },
          "metadata": {
            "needs_background": "light"
          }
        }
      ]
    },
    {
      "cell_type": "markdown",
      "source": [
        "Draw the line plot between Age and Concession. Observe the trend line."
      ],
      "metadata": {
        "id": "njxw0EzO7uCB"
      }
    },
    {
      "cell_type": "code",
      "source": [
        "b = df.sort_values(by='Age', ascending=True)\n",
        "plt.plot(b['Age'],b['Concession'], marker = '.', color = 'green')\n",
        "plt.title('Age and concession')\n",
        "plt.xlabel('Age')\n",
        "plt.ylabel('Concession')"
      ],
      "metadata": {
        "id": "3aM5nDNAmUeg",
        "colab": {
          "base_uri": "https://localhost:8080/",
          "height": 312
        },
        "outputId": "36851e52-d050-4c39-a878-3bc8ee8e9385"
      },
      "execution_count": null,
      "outputs": [
        {
          "output_type": "execute_result",
          "data": {
            "text/plain": [
              "Text(0, 0.5, 'Concession')"
            ]
          },
          "metadata": {},
          "execution_count": 12
        },
        {
          "output_type": "display_data",
          "data": {
            "text/plain": [
              "<Figure size 432x288 with 1 Axes>"
            ],
            "image/png": "[encoded data removed]"
          },
          "metadata": {
            "needs_background": "light"
          }
        }
      ]
    },
    {
      "cell_type": "markdown",
      "source": [
        "Draw the scatter plot between Fare and New_Fare. Observe the correlation"
      ],
      "metadata": {
        "id": "oayL80Cm7yNR"
      }
    },
    {
      "cell_type": "code",
      "source": [
        "x = df['Fare']\n",
        "y = df['New_Fare']\n",
        "plt.scatter(x,y, color='y')"
      ],
      "metadata": {
        "id": "sOq2LaBtnGvu",
        "colab": {
          "base_uri": "https://localhost:8080/",
          "height": 282
        },
        "outputId": "52493415-230d-4b70-b3cb-d99228b105c0"
      },
      "execution_count": null,
      "outputs": [
        {
          "output_type": "execute_result",
          "data": {
            "text/plain": [
              "<matplotlib.collections.PathCollection at 0x7f00966f8b50>"
            ]
          },
          "metadata": {},
          "execution_count": 13
        },
        {
          "output_type": "display_data",
          "data": {
            "text/plain": [
              "<Figure size 432x288 with 1 Axes>"
            ],
            "image/png": "[encoded data removed]"
          },
          "metadata": {
            "needs_background": "light"
          }
        }
      ]
    },
    {
      "cell_type": "markdown",
      "source": [
        "Draw the scatter plot between Age and Fare. Observe the correlation"
      ],
      "metadata": {
        "id": "8kmYgrcD71te"
      }
    },
    {
      "cell_type": "code",
      "source": [
        "x = df['Age']\n",
        "y = df['Fare']\n",
        "plt.scatter(x,y, color='y')"
      ],
      "metadata": {
        "id": "A45wER-GqsD7",
        "colab": {
          "base_uri": "https://localhost:8080/",
          "height": 282
        },
        "outputId": "b574c789-99d7-4c9d-e1bc-6d3864fbf6d4"
      },
      "execution_count": null,
      "outputs": [
        {
          "output_type": "execute_result",
          "data": {
            "text/plain": [
              "<matplotlib.collections.PathCollection at 0x7f0096670dc0>"
            ]
          },
          "metadata": {},
          "execution_count": 14
        },
        {
          "output_type": "display_data",
          "data": {
            "text/plain": [
              "<Figure size 432x288 with 1 Axes>"
            ],
            "image/png": "[encoded data removed]"
          },
          "metadata": {
            "needs_background": "light"
          }
        }
      ]
    },
    {
      "cell_type": "markdown",
      "source": [
        "Draw the box plot to show the statistical summary of Age column and verify with\n",
        "describe()"
      ],
      "metadata": {
        "id": "409r4NSl8Ku8"
      }
    },
    {
      "cell_type": "code",
      "source": [
        "plt.boxplot(df['Age']);"
      ],
      "metadata": {
        "id": "T3hRMldBqxzu",
        "colab": {
          "base_uri": "https://localhost:8080/",
          "height": 265
        },
        "outputId": "6646f846-2b1a-4b75-bcf1-d94e480f4977"
      },
      "execution_count": null,
      "outputs": [
        {
          "output_type": "display_data",
          "data": {
            "text/plain": [
              "<Figure size 432x288 with 1 Axes>"
            ],
            "image/png": "[encoded data removed]"
          },
          "metadata": {
            "needs_background": "light"
          }
        }
      ]
    },
    {
      "cell_type": "code",
      "source": [
        "df.describe()"
      ],
      "metadata": {
        "id": "oxERs_USrNTM"
      },
      "execution_count": null,
      "outputs": []
    },
    {
      "cell_type": "markdown",
      "source": [
        "Draw the histogram plot for Concession column"
      ],
      "metadata": {
        "id": "9-I32-s_8MrK"
      }
    },
    {
      "cell_type": "code",
      "source": [
        "plt.hist(df['Concession'], edgecolor='white');"
      ],
      "metadata": {
        "id": "IZCharA6rW7F",
        "colab": {
          "base_uri": "https://localhost:8080/",
          "height": 265
        },
        "outputId": "d9c8959d-62c3-4b4e-ea68-dac886862737"
      },
      "execution_count": null,
      "outputs": [
        {
          "output_type": "display_data",
          "data": {
            "text/plain": [
              "<Figure size 432x288 with 1 Axes>"
            ],
            "image/png": "[encoded data removed]"
          },
          "metadata": {
            "needs_background": "light"
          }
        }
      ]
    },
    {
      "cell_type": "markdown",
      "source": [
        "Draw the histogram plot for Concession column with bin value and PDF"
      ],
      "metadata": {
        "id": "v7GzgDr68PVW"
      }
    },
    {
      "cell_type": "code",
      "source": [
        "plt.hist(df['Concession'], edgecolor='white', bins =5, density = True);"
      ],
      "metadata": {
        "id": "lGLyialLry4W",
        "colab": {
          "base_uri": "https://localhost:8080/",
          "height": 265
        },
        "outputId": "89661f71-9776-4dea-d369-1e508f21f30a"
      },
      "execution_count": null,
      "outputs": [
        {
          "output_type": "display_data",
          "data": {
            "text/plain": [
              "<Figure size 432x288 with 1 Axes>"
            ],
            "image/png": "[encoded data removed]"
          },
          "metadata": {
            "needs_background": "light"
          }
        }
      ]
    }
  ]
}